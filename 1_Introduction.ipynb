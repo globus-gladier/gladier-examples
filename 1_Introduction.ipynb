{
 "cells": [
  {
   "cell_type": "markdown",
   "metadata": {},
   "source": [
    "# Gladier Tutorial\n",
    "### Gladier: The Globus Architecture for Data-Intensive Experimental Research.\n",
    "\n",
    "Gladier is a programmable data capture, storage, and analysis architecture for experimental facilities. The architecture leverages a data and computing substrate based on agents deployed across computer and storage systems at APS, ALCF, and elsewhere, all managed by cloud-hosted Globus services. In particular, we leverage [Globus Connect](https://www.globus.org/globus-connect)\n",
    "and [funcX](https://funcx.org) agents to facilitate secure, reliable remote data and computation and employ the [Globus Flows](https://www.globus.org/platform/services/flows) platform to orchestrate distributed data management tasks into reliable pipelines.\n",
    "\n",
    "## Gladier Toolkit\n",
    "The Gladier toolkit provides tools and capabilities to simplify and accelerate the development of these automations. The toolkit manages the dynamic creation of flows, automatically registers funcX functions, and assists in validating inputs. \n",
    "\n",
    "Here we demonstrate how the Gladier toolkit can be used to let anyone create a simple, yet powerful client to automate data management tasks.\n",
    "\n",
    "While not necessary to use this notebook, the Gladier toolkit is available on pypi and can be installed with:\n",
    "\n",
    "    $ pip install gladier\n",
    "\n",
    "Documentation is available [here.](https://gladier.readthedocs.io/en/latest/index.html)\n"
   ]
  },
  {
   "cell_type": "code",
   "execution_count": null,
   "metadata": {},
   "outputs": [],
   "source": [
    "# General Imports\n",
    "from pprint import pprint\n",
    "import json\n",
    "import os\n",
    "\n",
    "# Gladier Imports\n",
    "from gladier import GladierBaseClient, GladierBaseTool, generate_flow_definition\n",
    "\n",
    "# Globus automate variable for Binder\n",
    "os.environ['SSH_TTY'] = 'BINDER_REMOTE'"
   ]
  },
  {
   "cell_type": "markdown",
   "metadata": {},
   "source": [
    "## Gladier Tools\n",
    "\n",
    "Gladier Tools are the glue that holds together Globus Flows and funcX functions. Tools bundle everything the funcX function needs to run, so the Gladier Client can register the function, check the requirements, and run it inside the flow.\n",
    "\n",
    "Here we create a Gladier tool called `FileSize`. To do this we first define a function called `file_size`. The function is then specified as the funcx_function of the FileSize tool. The FileSize tool extends the GladierBaseTool class, providing capabilities to dynamically register the function as it changes and validate inputs when it is used within a flow."
   ]
  },
  {
   "cell_type": "code",
   "execution_count": null,
   "metadata": {},
   "outputs": [],
   "source": [
    "def file_size(**data):\n",
    "    \"\"\"Return the size of a file\"\"\"\n",
    "    import os\n",
    "    return os.path.getsize(data['pathname'])\n",
    "\n",
    "@generate_flow_definition\n",
    "class FileSize(GladierBaseTool):\n",
    "    funcx_functions = [file_size]"
   ]
  },
  {
   "cell_type": "markdown",
   "metadata": {},
   "source": [
    "## Gladier Clients\n",
    "\n",
    "Gladier Clients manage a collection of Gladier Tools and a Globus Flow to link them together into a pipeline. Clients handle both registering funcX functions for each tool and registering the flow to orchestrate each tool's execution. The checksum of the flows and funcX functions are checked prior to each invocation to ensure they are always up-to-date. Further, the client checks the necessary inputs to each tool are present before the flow is invoked.\n",
    "\n",
    "Once a tool has been created it can be imported and used by a client. The client can then dynamically create a flow using the list of tools.\n",
    "\n",
    "Here we define an `ExampleClient` and specify the `FileSize` tool. "
   ]
  },
  {
   "cell_type": "code",
   "execution_count": null,
   "metadata": {},
   "outputs": [],
   "source": [
    "@generate_flow_definition\n",
    "class ExampleClient(GladierBaseClient):\n",
    "    gladier_tools = [\n",
    "        FileSize,\n",
    "    ]\n",
    "\n",
    "exampleClient = ExampleClient()"
   ]
  },
  {
   "cell_type": "markdown",
   "metadata": {},
   "source": [
    "The `@generate_flow_definition` annotation prompts the client to dynamically create a Flow to serially combine each tool used by the client. The resulting flow definition is then saved and can be inspected.\n",
    "\n",
    "More information on flow generation can be found [here.](https://gladier.readthedocs.io/en/latest/flow_generation.html)"
   ]
  },
  {
   "cell_type": "markdown",
   "metadata": {},
   "source": [
    "## Flow Input\n",
    "\n",
    "As you can see from the flow definition the input arguments for the tool have been dynamically defined. In this case, the `FileSize` tool requires a `funcx_endpoint_compute`, `file_size_funcx_id` and the entire `input` document is passed as the function payload. These values can be overridden in the flow or defined in the Tool definition.\n",
    "\n",
    "It is important to note that the funcX function id, `file_size_funcx_id` is automatically populated by the Client at runtime. This allows the client to check whether the function definition has changed and re-register the function with funcX if necessary. As such, you do not need to specify the function id as input to the flow.\n",
    "\n",
    "Here we define the input to include a pathname for the tool to act on and a public funcX endpoint to perform the execution."
   ]
  },
  {
   "cell_type": "code",
   "execution_count": null,
   "metadata": {},
   "outputs": [],
   "source": [
    "# Remote endpoints\n",
    "fx_endpoint = '4b116d3c-1703-4f8f-9f6f-39921e5864df'\n",
    "\n",
    "# File to check size at the remote machine\n",
    "filepath = '/etc/hostname'\n",
    "\n",
    "# Input with automate format. \n",
    "flow_input = {\n",
    "    \"input\": {\n",
    "        \"pathname\": filepath,\n",
    "        \"funcx_endpoint_compute\": fx_endpoint,\n",
    "    }\n",
    "}\n",
    "\n",
    "print(json.dumps(flow_input, indent = 2))"
   ]
  },
  {
   "cell_type": "markdown",
   "metadata": {},
   "source": [
    "## Running The Flow\n",
    "\n",
    "Now input has been created we can use the client to start and monitor the flow.\n",
    "\n",
    "This will prompt you to authenticate and grant permission to the flow to perform a funcX invocation on your behalf."
   ]
  },
  {
   "cell_type": "code",
   "execution_count": null,
   "metadata": {},
   "outputs": [],
   "source": [
    "run_label = 'GladierTest_v1'\n",
    "\n",
    "example_flow = exampleClient.run_flow(flow_input=flow_input,label=run_label)\n",
    "print(\"  File : \" + flow_input[\"input\"][\"pathname\"])\n",
    "print(\"  UUID : \" + example_flow['action_id'])"
   ]
  },
  {
   "cell_type": "markdown",
   "metadata": {},
   "source": [
    "## Accessing Flow Logs"
   ]
  },
  {
   "cell_type": "code",
   "execution_count": null,
   "metadata": {},
   "outputs": [],
   "source": [
    "print('https://app.globus.org/flows/%s/runs/%s' % (example_flow['flow_id'],example_flow['action_id']))"
   ]
  },
  {
   "cell_type": "markdown",
   "metadata": {},
   "source": [
    "## Monitoring Flow Progress"
   ]
  },
  {
   "cell_type": "code",
   "execution_count": null,
   "metadata": {},
   "outputs": [],
   "source": [
    "exampleClient.progress(example_flow['action_id'])"
   ]
  },
  {
   "cell_type": "markdown",
   "metadata": {},
   "source": [
    "## Getting Flow Results \n",
    "\n",
    "We can access the results of each step of the run."
   ]
  },
  {
   "cell_type": "code",
   "execution_count": null,
   "metadata": {},
   "outputs": [],
   "source": [
    "exampleClient.get_details(example_flow['action_id'], 'FileSize')"
   ]
  }
 ],
 "metadata": {
  "interpreter": {
   "hash": "29c7d61c0b705a1e0ee1ff93d2482337e8314a272648cd14c87bbb9c779684f0"
  },
  "kernelspec": {
   "display_name": "Python 3 (ipykernel)",
   "language": "python",
   "name": "python3"
  },
  "language_info": {
   "codemirror_mode": {
    "name": "ipython",
    "version": 3
   },
   "file_extension": ".py",
   "mimetype": "text/x-python",
   "name": "python",
   "nbconvert_exporter": "python",
   "pygments_lexer": "ipython3",
   "version": "3.8.13"
  }
 },
 "nbformat": 4,
 "nbformat_minor": 2
}
