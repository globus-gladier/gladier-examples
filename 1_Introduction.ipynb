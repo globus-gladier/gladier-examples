{
 "cells": [
  {
   "cell_type": "markdown",
   "source": [
    "# Gladier Tutorial\r\n",
    "### Gladier: The Globus Architecture for Data-Intensive Experimental Research.\r\n",
    "\r\n",
    "Gladier is a programmable data capture, storage, and analysis architecture for experimental facilities. The architecture leverages a data and computing substrate based on agents deployed across computer and storage systems at APS, ALCF, and elsewhere, all managed by cloud-hosted Globus services. In particular, we leverage [Globus Connect](https://www.globus.org/globus-connect)\r\n",
    "and [funcX](https://funcx.org) agents to facilitate secure, reliable remote data and computation and employ the [Globus Flows](https://www.globus.org/platform/services/flows) platform to orchestrate distributed data management tasks into reliable pipelines.\r\n",
    "\r\n",
    "## Gladier Toolkit\r\n",
    "The Gladier toolkit provides tools and capabilities to simplify and accelerate the development of these automations. The toolkit manages the dynamic creation of flows, automatically registers funcX functions, and assists in validating inputs. \r\n",
    "\r\n",
    "Here we demonstrate how the Gladier toolkit can be used to let anyone create a simple, yet powerful client to automate data management tasks.\r\n",
    "\r\n",
    "While not necessary to use this notebook, the Gladier toolkit is available on pypi and can be installed with:\r\n",
    "\r\n",
    "    $ pip install gladier\r\n",
    "\r\n",
    "Documentation is available [here.](https://gladier.readthedocs.io/en/latest/index.html)\r\n"
   ],
   "metadata": {}
  },
  {
   "cell_type": "code",
   "execution_count": null,
   "source": [
    "##General Imports\r\n",
    "from pprint import pprint\r\n",
    "import json\r\n",
    "import os\r\n",
    "\r\n",
    "##Gladier Imports\r\n",
    "from gladier import GladierBaseClient, GladierBaseTool, generate_flow_definition\r\n",
    "\r\n",
    "##Globus automate variable for Binder\r\n",
    "os.environ['SSH_TTY'] = 'BINDER_REMOTE'"
   ],
   "outputs": [],
   "metadata": {}
  },
  {
   "cell_type": "markdown",
   "source": [
    "## Gladier Tools\r\n",
    "\r\n",
    "Gladier Tools are the glue that holds together Globus Flows and funcX functions. Tools bundle everything the funcX function needs to run, so the Gladier Client can register the function, check the requirements, and run it inside the flow.\r\n",
    "\r\n",
    "Here we create a Gladier tool called `FileSize`. To do this we first define a function called `file_size`. The function is then specified as the funcx_function of the FileSize tool. The FileSize tool extends the GladierBaseTool class, providing capabilities to dynamically register the function as it changes and validate inputs when it is used within a flow."
   ],
   "metadata": {}
  },
  {
   "cell_type": "code",
   "execution_count": null,
   "source": [
    "def file_size(**data):\r\n",
    "    \"\"\"Return the size of a file\"\"\"\r\n",
    "    import os\r\n",
    "    return os.path.getsize(data['pathname'])\r\n",
    "\r\n",
    "@generate_flow_definition\r\n",
    "class FileSize(GladierBaseTool):\r\n",
    "    funcx_functions = [file_size]"
   ],
   "outputs": [],
   "metadata": {}
  },
  {
   "cell_type": "markdown",
   "source": [
    "## Gladier Clients\r\n",
    "\r\n",
    "Gladier Clients manage a collection of Gladier Tools and a Globus Flow to link them together into a pipeline. Clients handle both registering funcX functions for each tool and registering the flow to orchestrate each tool's execution. The checksum of the flows and funcX functions are checked prior to each invocation to ensure they are always up-to-date. Further, the client checks the necessary inputs to each tool are present before the flow is invoked.\r\n",
    "\r\n",
    "Once a tool has been created it can be imported and used by a client. The client can then dynamically create a flow using the list of tools.\r\n",
    "\r\n",
    "Here we define an `ExampleClient` and specify the `FileSize` tool. "
   ],
   "metadata": {}
  },
  {
   "cell_type": "code",
   "execution_count": null,
   "source": [
    "@generate_flow_definition\r\n",
    "class ExampleClient(GladierBaseClient):\r\n",
    "    gladier_tools = [\r\n",
    "        FileSize,\r\n",
    "    ]\r\n",
    "\r\n",
    "exampleClient = ExampleClient()"
   ],
   "outputs": [],
   "metadata": {}
  },
  {
   "cell_type": "markdown",
   "source": [
    "The `@generate_flow_definition` annotation prompts the client to dynamically create a Flow to serially combine each tool used by the client. The resulting flow definition is then saved and can be inspected.\r\n",
    "\r\n",
    "More information on flow generation can be found [here.](https://gladier.readthedocs.io/en/latest/flow_generation.html)"
   ],
   "metadata": {}
  },
  {
   "cell_type": "markdown",
   "source": [
    "## Flow Input\r\n",
    "\r\n",
    "As you can see from the flow definition the input arguments for the tool have been dynamically defined. In this case, the `FileSize` tool requires a `funcx_endpoint_compute`, `file_size_funcx_id` and the entire `input` document is passed as the function payload. These values can be overridden in the flow or defined in the Tool definition.\r\n",
    "\r\n",
    "It is important to note that the funcX function id, `file_size_funcx_id` is automatically populated by the Client at runtime. This allows the client to check whether the function definition has changed and re-register the function with funcX if necessary. As such, you do not need to specify the function id as input to the flow.\r\n",
    "\r\n",
    "Here we define the input to include a pathname for the tool to act on and a public funcX endpoint to perform the execution."
   ],
   "metadata": {}
  },
  {
   "cell_type": "code",
   "execution_count": null,
   "source": [
    "##Remote endpoints\r\n",
    "fx_endpoint = '69378dfb-53e1-4ad4-adc9-ced8082730f9'\r\n",
    "\r\n",
    "##file to check size at the remote machine\r\n",
    "filepath = '/etc/hostname'\r\n",
    "\r\n",
    "##Input with automate format. \r\n",
    "flow_input = {\r\n",
    "    \"input\": {\r\n",
    "        \"pathname\": filepath,\r\n",
    "        \"funcx_endpoint_compute\": fx_endpoint,\r\n",
    "    }\r\n",
    "}\r\n",
    "\r\n",
    "print(json.dumps(flow_input, indent = 2)) ## notice this input can be used directly on automate website."
   ],
   "outputs": [],
   "metadata": {}
  },
  {
   "cell_type": "markdown",
   "source": [
    "## Running The Flow\r\n",
    "\r\n",
    "Now input has been created we can use the client to start and monitor the flow.\r\n",
    "\r\n",
    "This will prompt you to authenticate and grant permission to the flow to perform a funcX invocation on your behalf."
   ],
   "metadata": {}
  },
  {
   "cell_type": "code",
   "execution_count": null,
   "source": [
    "run_label = 'GladierTest_v1'\r\n",
    "\r\n",
    "example_flow = exampleClient.run_flow(flow_input=flow_input,label=run_label)\r\n",
    "print(\"  File : \" + flow_input[\"input\"][\"pathname\"])\r\n",
    "print(\"  UUID : \" + example_flow['action_id'])"
   ],
   "outputs": [],
   "metadata": {}
  },
  {
   "cell_type": "markdown",
   "source": [
    "## Monitoring Flow Progress"
   ],
   "metadata": {}
  },
  {
   "cell_type": "code",
   "execution_count": null,
   "source": [
    "exampleClient.progress(example_flow['action_id'])"
   ],
   "outputs": [],
   "metadata": {}
  },
  {
   "cell_type": "markdown",
   "source": [
    "## Getting Flow Results \n",
    "\n",
    "We can access the results of each step of the run."
   ],
   "metadata": {}
  },
  {
   "cell_type": "code",
   "execution_count": null,
   "source": [
    "exampleClient.get_details(example_flow['action_id'], 'FileSize')"
   ],
   "outputs": [],
   "metadata": {}
  },
  {
   "cell_type": "markdown",
   "source": [
    "## Accessing Flow Logs "
   ],
   "metadata": {}
  },
  {
   "cell_type": "code",
   "execution_count": null,
   "source": [
    "print('https://app.globus.org/flows/%s/runs/%s' % (example_flow['flow_id'],example_flow['action_id']))"
   ],
   "outputs": [],
   "metadata": {}
  }
 ],
 "metadata": {
  "interpreter": {
   "hash": "29c7d61c0b705a1e0ee1ff93d2482337e8314a272648cd14c87bbb9c779684f0"
  },
  "kernelspec": {
   "name": "python3",
   "display_name": "Python 3.8.5 64-bit ('funcx': conda)"
  },
  "language_info": {
   "codemirror_mode": {
    "name": "ipython",
    "version": 3
   },
   "file_extension": ".py",
   "mimetype": "text/x-python",
   "name": "python",
   "nbconvert_exporter": "python",
   "pygments_lexer": "ipython3",
   "version": "3.8.5"
  }
 },
 "nbformat": 4,
 "nbformat_minor": 2
}
